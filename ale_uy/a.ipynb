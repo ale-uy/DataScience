{
 "cells": [
  {
   "cell_type": "code",
   "execution_count": 1,
   "metadata": {},
   "outputs": [],
   "source": [
    "from tests.random_dataframe_generator import RandomDataFrameGenerator\n",
    "from eda import EDA, Graphs_eda, Models\n",
    "\n",
    "import warnings; warnings.simplefilter('ignore')"
   ]
  },
  {
   "cell_type": "code",
   "execution_count": 2,
   "metadata": {},
   "outputs": [
    {
     "data": {
      "text/html": [
       "<div>\n",
       "<style scoped>\n",
       "    .dataframe tbody tr th:only-of-type {\n",
       "        vertical-align: middle;\n",
       "    }\n",
       "\n",
       "    .dataframe tbody tr th {\n",
       "        vertical-align: top;\n",
       "    }\n",
       "\n",
       "    .dataframe thead th {\n",
       "        text-align: right;\n",
       "    }\n",
       "</style>\n",
       "<table border=\"1\" class=\"dataframe\">\n",
       "  <thead>\n",
       "    <tr style=\"text-align: right;\">\n",
       "      <th></th>\n",
       "      <th>col_int</th>\n",
       "      <th>col_float</th>\n",
       "      <th>col_string</th>\n",
       "      <th>col_datetime</th>\n",
       "      <th>col_category</th>\n",
       "      <th>col_binary</th>\n",
       "    </tr>\n",
       "  </thead>\n",
       "  <tbody>\n",
       "    <tr>\n",
       "      <th>0</th>\n",
       "      <td>-760.0</td>\n",
       "      <td>29.473070</td>\n",
       "      <td>NaN</td>\n",
       "      <td>1997-05-03</td>\n",
       "      <td>cat_1</td>\n",
       "      <td>False</td>\n",
       "    </tr>\n",
       "    <tr>\n",
       "      <th>1</th>\n",
       "      <td>-705.0</td>\n",
       "      <td>264.249805</td>\n",
       "      <td>wbmHprHONp</td>\n",
       "      <td>2005-01-11</td>\n",
       "      <td>cat_8</td>\n",
       "      <td>True</td>\n",
       "    </tr>\n",
       "    <tr>\n",
       "      <th>2</th>\n",
       "      <td>128.0</td>\n",
       "      <td>NaN</td>\n",
       "      <td>AcYdvHRQBH</td>\n",
       "      <td>2007-03-17</td>\n",
       "      <td>cat_7</td>\n",
       "      <td>False</td>\n",
       "    </tr>\n",
       "    <tr>\n",
       "      <th>3</th>\n",
       "      <td>-278.0</td>\n",
       "      <td>-304.511372</td>\n",
       "      <td>UtekcOubrF</td>\n",
       "      <td>2022-05-13</td>\n",
       "      <td>cat_5</td>\n",
       "      <td>False</td>\n",
       "    </tr>\n",
       "    <tr>\n",
       "      <th>4</th>\n",
       "      <td>NaN</td>\n",
       "      <td>-771.377059</td>\n",
       "      <td>NtEBSYFpbx</td>\n",
       "      <td>1996-10-27</td>\n",
       "      <td>cat_1</td>\n",
       "      <td>False</td>\n",
       "    </tr>\n",
       "    <tr>\n",
       "      <th>...</th>\n",
       "      <td>...</td>\n",
       "      <td>...</td>\n",
       "      <td>...</td>\n",
       "      <td>...</td>\n",
       "      <td>...</td>\n",
       "      <td>...</td>\n",
       "    </tr>\n",
       "    <tr>\n",
       "      <th>95</th>\n",
       "      <td>606.0</td>\n",
       "      <td>-178.225793</td>\n",
       "      <td>ASfpRLJSEL</td>\n",
       "      <td>1973-09-13</td>\n",
       "      <td>cat_1</td>\n",
       "      <td>True</td>\n",
       "    </tr>\n",
       "    <tr>\n",
       "      <th>96</th>\n",
       "      <td>406.0</td>\n",
       "      <td>76.439578</td>\n",
       "      <td>NaN</td>\n",
       "      <td>2023-08-02</td>\n",
       "      <td>cat_5</td>\n",
       "      <td>False</td>\n",
       "    </tr>\n",
       "    <tr>\n",
       "      <th>97</th>\n",
       "      <td>-642.0</td>\n",
       "      <td>617.957659</td>\n",
       "      <td>VHBFBYVaBH</td>\n",
       "      <td>NaT</td>\n",
       "      <td>cat_1</td>\n",
       "      <td>True</td>\n",
       "    </tr>\n",
       "    <tr>\n",
       "      <th>98</th>\n",
       "      <td>-29.0</td>\n",
       "      <td>NaN</td>\n",
       "      <td>wvvVGWqIhg</td>\n",
       "      <td>1980-06-18</td>\n",
       "      <td>cat_3</td>\n",
       "      <td>True</td>\n",
       "    </tr>\n",
       "    <tr>\n",
       "      <th>99</th>\n",
       "      <td>NaN</td>\n",
       "      <td>-136.002852</td>\n",
       "      <td>APzhUwtrtE</td>\n",
       "      <td>2013-06-22</td>\n",
       "      <td>cat_4</td>\n",
       "      <td>True</td>\n",
       "    </tr>\n",
       "  </tbody>\n",
       "</table>\n",
       "<p>100 rows × 6 columns</p>\n",
       "</div>"
      ],
      "text/plain": [
       "    col_int   col_float  col_string col_datetime col_category col_binary\n",
       "0    -760.0   29.473070         NaN   1997-05-03        cat_1      False\n",
       "1    -705.0  264.249805  wbmHprHONp   2005-01-11        cat_8       True\n",
       "2     128.0         NaN  AcYdvHRQBH   2007-03-17        cat_7      False\n",
       "3    -278.0 -304.511372  UtekcOubrF   2022-05-13        cat_5      False\n",
       "4       NaN -771.377059  NtEBSYFpbx   1996-10-27        cat_1      False\n",
       "..      ...         ...         ...          ...          ...        ...\n",
       "95    606.0 -178.225793  ASfpRLJSEL   1973-09-13        cat_1       True\n",
       "96    406.0   76.439578         NaN   2023-08-02        cat_5      False\n",
       "97   -642.0  617.957659  VHBFBYVaBH          NaT        cat_1       True\n",
       "98    -29.0         NaN  wvvVGWqIhg   1980-06-18        cat_3       True\n",
       "99      NaN -136.002852  APzhUwtrtE   2013-06-22        cat_4       True\n",
       "\n",
       "[100 rows x 6 columns]"
      ]
     },
     "execution_count": 2,
     "metadata": {},
     "output_type": "execute_result"
    }
   ],
   "source": [
    "df = RandomDataFrameGenerator().generate_random_dataframe()\n",
    "df"
   ]
  },
  {
   "cell_type": "code",
   "execution_count": 3,
   "metadata": {},
   "outputs": [
    {
     "data": {
      "text/html": [
       "<div>\n",
       "<style scoped>\n",
       "    .dataframe tbody tr th:only-of-type {\n",
       "        vertical-align: middle;\n",
       "    }\n",
       "\n",
       "    .dataframe tbody tr th {\n",
       "        vertical-align: top;\n",
       "    }\n",
       "\n",
       "    .dataframe thead th {\n",
       "        text-align: right;\n",
       "    }\n",
       "</style>\n",
       "<table border=\"1\" class=\"dataframe\">\n",
       "  <thead>\n",
       "    <tr style=\"text-align: right;\">\n",
       "      <th></th>\n",
       "      <th>col_int</th>\n",
       "      <th>col_float</th>\n",
       "      <th>col_string</th>\n",
       "      <th>col_category</th>\n",
       "      <th>col_binary</th>\n",
       "    </tr>\n",
       "    <tr>\n",
       "      <th>col_datetime</th>\n",
       "      <th></th>\n",
       "      <th></th>\n",
       "      <th></th>\n",
       "      <th></th>\n",
       "      <th></th>\n",
       "    </tr>\n",
       "  </thead>\n",
       "  <tbody>\n",
       "    <tr>\n",
       "      <th>1997-05-03</th>\n",
       "      <td>-760.0</td>\n",
       "      <td>29.473070</td>\n",
       "      <td>0</td>\n",
       "      <td>1</td>\n",
       "      <td>False</td>\n",
       "    </tr>\n",
       "    <tr>\n",
       "      <th>2005-01-11</th>\n",
       "      <td>-705.0</td>\n",
       "      <td>264.249805</td>\n",
       "      <td>85</td>\n",
       "      <td>8</td>\n",
       "      <td>True</td>\n",
       "    </tr>\n",
       "    <tr>\n",
       "      <th>2007-03-17</th>\n",
       "      <td>128.0</td>\n",
       "      <td>48.843918</td>\n",
       "      <td>2</td>\n",
       "      <td>7</td>\n",
       "      <td>False</td>\n",
       "    </tr>\n",
       "    <tr>\n",
       "      <th>2022-05-13</th>\n",
       "      <td>-278.0</td>\n",
       "      <td>-304.511372</td>\n",
       "      <td>36</td>\n",
       "      <td>5</td>\n",
       "      <td>False</td>\n",
       "    </tr>\n",
       "    <tr>\n",
       "      <th>1996-10-27</th>\n",
       "      <td>-56.0</td>\n",
       "      <td>-771.377059</td>\n",
       "      <td>26</td>\n",
       "      <td>1</td>\n",
       "      <td>False</td>\n",
       "    </tr>\n",
       "    <tr>\n",
       "      <th>...</th>\n",
       "      <td>...</td>\n",
       "      <td>...</td>\n",
       "      <td>...</td>\n",
       "      <td>...</td>\n",
       "      <td>...</td>\n",
       "    </tr>\n",
       "    <tr>\n",
       "      <th>1973-09-13</th>\n",
       "      <td>606.0</td>\n",
       "      <td>-178.225793</td>\n",
       "      <td>1</td>\n",
       "      <td>1</td>\n",
       "      <td>True</td>\n",
       "    </tr>\n",
       "    <tr>\n",
       "      <th>2023-08-02</th>\n",
       "      <td>406.0</td>\n",
       "      <td>76.439578</td>\n",
       "      <td>0</td>\n",
       "      <td>5</td>\n",
       "      <td>False</td>\n",
       "    </tr>\n",
       "    <tr>\n",
       "      <th>1970-08-13</th>\n",
       "      <td>-642.0</td>\n",
       "      <td>617.957659</td>\n",
       "      <td>38</td>\n",
       "      <td>1</td>\n",
       "      <td>True</td>\n",
       "    </tr>\n",
       "    <tr>\n",
       "      <th>1980-06-18</th>\n",
       "      <td>-29.0</td>\n",
       "      <td>48.843918</td>\n",
       "      <td>87</td>\n",
       "      <td>3</td>\n",
       "      <td>True</td>\n",
       "    </tr>\n",
       "    <tr>\n",
       "      <th>2013-06-22</th>\n",
       "      <td>-56.0</td>\n",
       "      <td>-136.002852</td>\n",
       "      <td>0</td>\n",
       "      <td>4</td>\n",
       "      <td>True</td>\n",
       "    </tr>\n",
       "  </tbody>\n",
       "</table>\n",
       "<p>100 rows × 5 columns</p>\n",
       "</div>"
      ],
      "text/plain": [
       "              col_int   col_float  col_string  col_category  col_binary\n",
       "col_datetime                                                           \n",
       "1997-05-03     -760.0   29.473070           0             1       False\n",
       "2005-01-11     -705.0  264.249805          85             8        True\n",
       "2007-03-17      128.0   48.843918           2             7       False\n",
       "2022-05-13     -278.0 -304.511372          36             5       False\n",
       "1996-10-27      -56.0 -771.377059          26             1       False\n",
       "...               ...         ...         ...           ...         ...\n",
       "1973-09-13      606.0 -178.225793           1             1        True\n",
       "2023-08-02      406.0   76.439578           0             5       False\n",
       "1970-08-13     -642.0  617.957659          38             1        True\n",
       "1980-06-18      -29.0   48.843918          87             3        True\n",
       "2013-06-22      -56.0 -136.002852           0             4        True\n",
       "\n",
       "[100 rows x 5 columns]"
      ]
     },
     "execution_count": 3,
     "metadata": {},
     "output_type": "execute_result"
    }
   ],
   "source": [
    "df = EDA.impute_missing(df)\n",
    "df = EDA.convert_to_numeric(df, 'label')\n",
    "df.set_index('col_datetime', inplace=True)\n",
    "df"
   ]
  },
  {
   "cell_type": "code",
   "execution_count": 4,
   "metadata": {},
   "outputs": [
    {
     "data": {
      "image/png": "[encoded data removed]",
      "text/plain": [
       "<Figure size 1600x1200 with 4 Axes>"
      ]
     },
     "metadata": {},
     "output_type": "display_data"
    }
   ],
   "source": [
    "Graphs_eda.numerical_plot_density(df)"
   ]
  },
  {
   "cell_type": "code",
   "execution_count": 5,
   "metadata": {},
   "outputs": [
    {
     "data": {
      "image/png": "[encoded data removed]",
      "text/plain": [
       "<Figure size 1000x1000 with 20 Axes>"
      ]
     },
     "metadata": {},
     "output_type": "display_data"
    }
   ],
   "source": [
    "Graphs_eda.scatter_plot_matrix(df)"
   ]
  },
  {
   "cell_type": "code",
   "execution_count": 6,
   "metadata": {},
   "outputs": [
    {
     "data": {
      "application/vnd.plotly.v1+json": {
       "config": {
        "plotlyServerURL": "https://plot.ly"
       },
       "data": [
        {
         "alignmentgroup": "True",
         "hovertemplate": "variable=%{x}<br>value=%{y}<extra></extra>",
         "legendgroup": "col_int",
         "marker": {
          "color": "#636EFA"
         },
         "name": "col_int",
         "notched": false,
         "offsetgroup": "col_int",
         "orientation": "v",
         "showlegend": true,
         "type": "box",
         "x": [
          "col_int",
          "col_int",
          "col_int",
          "col_int",
          "col_int",
          "col_int",
          "col_int",
          "col_int",
          "col_int",
          "col_int",
          "col_int",
          "col_int",
          "col_int",
          "col_int",
          "col_int",
          "col_int",
          "col_int",
          "col_int",
          "col_int",
          "col_int",
          "col_int",
          "col_int",
          "col_int",
          "col_int",
          "col_int",
          "col_int",
          "col_int",
          "col_int",
          "col_int",
          "col_int",
          "col_int",
          "col_int",
          "col_int",
          "col_int",
          "col_int",
          "col_int",
          "col_int",
          "col_int",
          "col_int",
          "col_int",
          "col_int",
          "col_int",
          "col_int",
          "col_int",
          "col_int",
          "col_int",
          "col_int",
          "col_int",
          "col_int",
          "col_int",
          "col_int",
          "col_int",
          "col_int",
          "col_int",
          "col_int",
          "col_int",
          "col_int",
          "col_int",
          "col_int",
          "col_int",
          "col_int",
          "col_int",
          "col_int",
          "col_int",
          "col_int",
          "col_int",
          "col_int",
          "col_int",
          "col_int",
          "col_int",
          "col_int",
          "col_int",
          "col_int",
          "col_int",
          "col_int",
          "col_int",
          "col_int",
          "col_int",
          "col_int",
          "col_int",
          "col_int",
          "col_int",
          "col_int",
          "col_int",
          "col_int",
          "col_int",
          "col_int",
          "col_int",
          "col_int",
          "col_int",
          "col_int",
          "col_int",
          "col_int",
          "col_int",
          "col_int",
          "col_int",
          "col_int",
          "col_int",
          "col_int",
          "col_int"
         ],
         "x0": " ",
         "xaxis": "x",
         "y": [
          -760,
          -705,
          128,
          -278,
          -56,
          875,
          583,
          -787,
          -56,
          128,
          721,
          -628,
          -56,
          -56,
          114,
          -620,
          724,
          -590,
          -104,
          634,
          993,
          -317,
          -485,
          -56,
          -565,
          -43,
          -479,
          -56,
          537,
          -699,
          851,
          -157,
          -228,
          -369,
          -173,
          139,
          424,
          491,
          849,
          -47,
          -169,
          -752,
          -330,
          219,
          866,
          51,
          417,
          151,
          622,
          570,
          -320,
          -451,
          932,
          -409,
          595,
          -541,
          -745,
          -418,
          -311,
          142,
          -382,
          -890,
          293,
          950,
          983,
          -895,
          399,
          -560,
          -866,
          -236,
          -56,
          790,
          -56,
          732,
          171,
          -385,
          -56,
          -56,
          732,
          -907,
          -256,
          -56,
          -737,
          -926,
          -899,
          -158,
          -56,
          -56,
          -199,
          997,
          803,
          545,
          -56,
          -56,
          296,
          606,
          406,
          -642,
          -29,
          -56
         ],
         "y0": " ",
         "yaxis": "y"
        },
        {
         "alignmentgroup": "True",
         "hovertemplate": "variable=%{x}<br>value=%{y}<extra></extra>",
         "legendgroup": "col_float",
         "marker": {
          "color": "#EF553B"
         },
         "name": "col_float",
         "notched": false,
         "offsetgroup": "col_float",
         "orientation": "v",
         "showlegend": true,
         "type": "box",
         "x": [
          "col_float",
          "col_float",
          "col_float",
          "col_float",
          "col_float",
          "col_float",
          "col_float",
          "col_float",
          "col_float",
          "col_float",
          "col_float",
          "col_float",
          "col_float",
          "col_float",
          "col_float",
          "col_float",
          "col_float",
          "col_float",
          "col_float",
          "col_float",
          "col_float",
          "col_float",
          "col_float",
          "col_float",
          "col_float",
          "col_float",
          "col_float",
          "col_float",
          "col_float",
          "col_float",
          "col_float",
          "col_float",
          "col_float",
          "col_float",
          "col_float",
          "col_float",
          "col_float",
          "col_float",
          "col_float",
          "col_float",
          "col_float",
          "col_float",
          "col_float",
          "col_float",
          "col_float",
          "col_float",
          "col_float",
          "col_float",
          "col_float",
          "col_float",
          "col_float",
          "col_float",
          "col_float",
          "col_float",
          "col_float",
          "col_float",
          "col_float",
          "col_float",
          "col_float",
          "col_float",
          "col_float",
          "col_float",
          "col_float",
          "col_float",
          "col_float",
          "col_float",
          "col_float",
          "col_float",
          "col_float",
          "col_float",
          "col_float",
          "col_float",
          "col_float",
          "col_float",
          "col_float",
          "col_float",
          "col_float",
          "col_float",
          "col_float",
          "col_float",
          "col_float",
          "col_float",
          "col_float",
          "col_float",
          "col_float",
          "col_float",
          "col_float",
          "col_float",
          "col_float",
          "col_float",
          "col_float",
          "col_float",
          "col_float",
          "col_float",
          "col_float",
          "col_float",
          "col_float",
          "col_float",
          "col_float",
          "col_float"
         ],
         "x0": " ",
         "xaxis": "x",
         "y": [
          29.47306951104406,
          264.2498054947798,
          48.84391824834802,
          -304.51137185172274,
          -771.3770592177389,
          48.84391824834802,
          -554.5083366682306,
          642.2384946634436,
          -997.6948313635831,
          -556.0691394417659,
          48.84391824834802,
          803.7583875931475,
          -397.19340714073087,
          682.1114085048382,
          302.54272323445616,
          34.11680935148888,
          63.571027145207154,
          776.4760904671932,
          -359.98133735172087,
          608.3882378618109,
          48.84391824834802,
          -608.7196996974407,
          605.4524665769402,
          895.6925164667987,
          244.98896820615596,
          153.04176317669794,
          -413.9346137004054,
          -369.96470531757404,
          23.20645559997115,
          392.5535259406929,
          -291.9133787115902,
          476.07029147187745,
          -970.0691922420266,
          932.6003066877995,
          -454.30483190082293,
          411.9979013925624,
          192.36570365491798,
          948.1186692573337,
          858.9521626127096,
          451.32751718551935,
          681.9533058492159,
          329.96335233357604,
          -635.0624059445406,
          -357.22749115156716,
          -731.8182349202402,
          -896.869504384756,
          883.3142591652413,
          -814.3138390228519,
          -419.34914669094985,
          -64.71300557833274,
          48.84391824834802,
          -394.61688945324806,
          48.84391824834802,
          48.84391824834802,
          937.6658836204876,
          -625.3572023057895,
          671.8906476007269,
          581.1839104296,
          316.1630086511177,
          393.63940199647755,
          711.0298438163677,
          48.84391824834802,
          -394.99219274477707,
          -344.8752039695671,
          -5.804238083674022,
          791.9448064044986,
          149.96744980878725,
          -7.161231306203945,
          72.42997796879354,
          -937.6845174712147,
          72.50537062642638,
          344.1758693316615,
          -123.4005353231804,
          526.6307080469562,
          48.84391824834802,
          -991.7989155314222,
          537.8742996966005,
          -545.2564760310725,
          442.5521474841462,
          544.4497730019459,
          594.7583045926372,
          -378.4506278913682,
          33.058598826581374,
          -566.3911132643702,
          126.52216226433302,
          48.84391824834802,
          -757.0930101136632,
          -503.1447412589349,
          20.270141979607388,
          -308.3460884634899,
          -567.1592916174513,
          48.84391824834802,
          -377.61752531563593,
          544.8439323426514,
          603.0158863523279,
          -178.22579294350112,
          76.43957830462978,
          617.9576585871882,
          48.84391824834802,
          -136.00285159407406
         ],
         "y0": " ",
         "yaxis": "y"
        },
        {
         "alignmentgroup": "True",
         "hovertemplate": "variable=%{x}<br>value=%{y}<extra></extra>",
         "legendgroup": "col_string",
         "marker": {
          "color": "#00CC96"
         },
         "name": "col_string",
         "notched": false,
         "offsetgroup": "col_string",
         "orientation": "v",
         "showlegend": true,
         "type": "box",
         "x": [
          "col_string",
          "col_string",
          "col_string",
          "col_string",
          "col_string",
          "col_string",
          "col_string",
          "col_string",
          "col_string",
          "col_string",
          "col_string",
          "col_string",
          "col_string",
          "col_string",
          "col_string",
          "col_string",
          "col_string",
          "col_string",
          "col_string",
          "col_string",
          "col_string",
          "col_string",
          "col_string",
          "col_string",
          "col_string",
          "col_string",
          "col_string",
          "col_string",
          "col_string",
          "col_string",
          "col_string",
          "col_string",
          "col_string",
          "col_string",
          "col_string",
          "col_string",
          "col_string",
          "col_string",
          "col_string",
          "col_string",
          "col_string",
          "col_string",
          "col_string",
          "col_string",
          "col_string",
          "col_string",
          "col_string",
          "col_string",
          "col_string",
          "col_string",
          "col_string",
          "col_string",
          "col_string",
          "col_string",
          "col_string",
          "col_string",
          "col_string",
          "col_string",
          "col_string",
          "col_string",
          "col_string",
          "col_string",
          "col_string",
          "col_string",
          "col_string",
          "col_string",
          "col_string",
          "col_string",
          "col_string",
          "col_string",
          "col_string",
          "col_string",
          "col_string",
          "col_string",
          "col_string",
          "col_string",
          "col_string",
          "col_string",
          "col_string",
          "col_string",
          "col_string",
          "col_string",
          "col_string",
          "col_string",
          "col_string",
          "col_string",
          "col_string",
          "col_string",
          "col_string",
          "col_string",
          "col_string",
          "col_string",
          "col_string",
          "col_string",
          "col_string",
          "col_string",
          "col_string",
          "col_string",
          "col_string",
          "col_string"
         ],
         "x0": " ",
         "xaxis": "x",
         "y": [
          0,
          85,
          2,
          36,
          26,
          83,
          46,
          0,
          39,
          73,
          52,
          0,
          86,
          8,
          47,
          9,
          0,
          5,
          42,
          35,
          19,
          79,
          31,
          21,
          74,
          55,
          27,
          6,
          17,
          88,
          33,
          51,
          20,
          76,
          30,
          11,
          0,
          69,
          45,
          71,
          18,
          40,
          53,
          89,
          56,
          0,
          68,
          43,
          65,
          72,
          0,
          67,
          44,
          84,
          32,
          34,
          16,
          77,
          64,
          61,
          37,
          14,
          10,
          7,
          0,
          58,
          57,
          3,
          24,
          22,
          28,
          60,
          59,
          78,
          54,
          4,
          41,
          13,
          48,
          82,
          62,
          80,
          12,
          50,
          25,
          75,
          49,
          66,
          81,
          63,
          0,
          23,
          70,
          15,
          29,
          1,
          0,
          38,
          87,
          0
         ],
         "y0": " ",
         "yaxis": "y"
        },
        {
         "alignmentgroup": "True",
         "hovertemplate": "variable=%{x}<br>value=%{y}<extra></extra>",
         "legendgroup": "col_category",
         "marker": {
          "color": "#AB63FA"
         },
         "name": "col_category",
         "notched": false,
         "offsetgroup": "col_category",
         "orientation": "v",
         "showlegend": true,
         "type": "box",
         "x": [
          "col_category",
          "col_category",
          "col_category",
          "col_category",
          "col_category",
          "col_category",
          "col_category",
          "col_category",
          "col_category",
          "col_category",
          "col_category",
          "col_category",
          "col_category",
          "col_category",
          "col_category",
          "col_category",
          "col_category",
          "col_category",
          "col_category",
          "col_category",
          "col_category",
          "col_category",
          "col_category",
          "col_category",
          "col_category",
          "col_category",
          "col_category",
          "col_category",
          "col_category",
          "col_category",
          "col_category",
          "col_category",
          "col_category",
          "col_category",
          "col_category",
          "col_category",
          "col_category",
          "col_category",
          "col_category",
          "col_category",
          "col_category",
          "col_category",
          "col_category",
          "col_category",
          "col_category",
          "col_category",
          "col_category",
          "col_category",
          "col_category",
          "col_category",
          "col_category",
          "col_category",
          "col_category",
          "col_category",
          "col_category",
          "col_category",
          "col_category",
          "col_category",
          "col_category",
          "col_category",
          "col_category",
          "col_category",
          "col_category",
          "col_category",
          "col_category",
          "col_category",
          "col_category",
          "col_category",
          "col_category",
          "col_category",
          "col_category",
          "col_category",
          "col_category",
          "col_category",
          "col_category",
          "col_category",
          "col_category",
          "col_category",
          "col_category",
          "col_category",
          "col_category",
          "col_category",
          "col_category",
          "col_category",
          "col_category",
          "col_category",
          "col_category",
          "col_category",
          "col_category",
          "col_category",
          "col_category",
          "col_category",
          "col_category",
          "col_category",
          "col_category",
          "col_category",
          "col_category",
          "col_category",
          "col_category",
          "col_category"
         ],
         "x0": " ",
         "xaxis": "x",
         "y": [
          1,
          8,
          7,
          5,
          1,
          5,
          2,
          4,
          9,
          2,
          4,
          8,
          8,
          5,
          8,
          5,
          8,
          4,
          3,
          1,
          6,
          4,
          4,
          9,
          5,
          7,
          9,
          5,
          3,
          3,
          5,
          1,
          1,
          5,
          7,
          4,
          5,
          9,
          8,
          8,
          7,
          8,
          3,
          5,
          5,
          1,
          3,
          3,
          2,
          4,
          1,
          9,
          5,
          7,
          2,
          0,
          5,
          5,
          2,
          7,
          2,
          9,
          4,
          0,
          8,
          6,
          8,
          3,
          9,
          6,
          0,
          5,
          5,
          0,
          1,
          7,
          7,
          8,
          3,
          0,
          5,
          9,
          2,
          6,
          5,
          9,
          5,
          5,
          7,
          6,
          5,
          5,
          8,
          0,
          7,
          1,
          5,
          1,
          3,
          4
         ],
         "y0": " ",
         "yaxis": "y"
        }
       ],
       "layout": {
        "boxmode": "overlay",
        "legend": {
         "title": {
          "text": "variable"
         },
         "tracegroupgap": 0
        },
        "showlegend": false,
        "template": {
         "data": {
          "bar": [
           {
            "error_x": {
             "color": "#2a3f5f"
            },
            "error_y": {
             "color": "#2a3f5f"
            },
            "marker": {
             "line": {
              "color": "#E5ECF6",
              "width": 0.5
             },
             "pattern": {
              "fillmode": "overlay",
              "size": 10,
              "solidity": 0.2
             }
            },
            "type": "bar"
           }
          ],
          "barpolar": [
           {
            "marker": {
             "line": {
              "color": "#E5ECF6",
              "width": 0.5
             },
             "pattern": {
              "fillmode": "overlay",
              "size": 10,
              "solidity": 0.2
             }
            },
            "type": "barpolar"
           }
          ],
          "carpet": [
           {
            "aaxis": {
             "endlinecolor": "#2a3f5f",
             "gridcolor": "white",
             "linecolor": "white",
             "minorgridcolor": "white",
             "startlinecolor": "#2a3f5f"
            },
            "baxis": {
             "endlinecolor": "#2a3f5f",
             "gridcolor": "white",
             "linecolor": "white",
             "minorgridcolor": "white",
             "startlinecolor": "#2a3f5f"
            },
            "type": "carpet"
           }
          ],
          "choropleth": [
           {
            "colorbar": {
             "outlinewidth": 0,
             "ticks": ""
            },
            "type": "choropleth"
           }
          ],
          "contour": [
           {
            "colorbar": {
             "outlinewidth": 0,
             "ticks": ""
            },
            "colorscale": [
             [
              0,
              "#0d0887"
             ],
             [
              0.1111111111111111,
              "#46039f"
             ],
             [
              0.2222222222222222,
              "#7201a8"
             ],
             [
              0.3333333333333333,
              "#9c179e"
             ],
             [
              0.4444444444444444,
              "#bd3786"
             ],
             [
              0.5555555555555556,
              "#d8576b"
             ],
             [
              0.6666666666666666,
              "#ed7953"
             ],
             [
              0.7777777777777778,
              "#fb9f3a"
             ],
             [
              0.8888888888888888,
              "#fdca26"
             ],
             [
              1,
              "#f0f921"
             ]
            ],
            "type": "contour"
           }
          ],
          "contourcarpet": [
           {
            "colorbar": {
             "outlinewidth": 0,
             "ticks": ""
            },
            "type": "contourcarpet"
           }
          ],
          "heatmap": [
           {
            "colorbar": {
             "outlinewidth": 0,
             "ticks": ""
            },
            "colorscale": [
             [
              0,
              "#0d0887"
             ],
             [
              0.1111111111111111,
              "#46039f"
             ],
             [
              0.2222222222222222,
              "#7201a8"
             ],
             [
              0.3333333333333333,
              "#9c179e"
             ],
             [
              0.4444444444444444,
              "#bd3786"
             ],
             [
              0.5555555555555556,
              "#d8576b"
             ],
             [
              0.6666666666666666,
              "#ed7953"
             ],
             [
              0.7777777777777778,
              "#fb9f3a"
             ],
             [
              0.8888888888888888,
              "#fdca26"
             ],
             [
              1,
              "#f0f921"
             ]
            ],
            "type": "heatmap"
           }
          ],
          "heatmapgl": [
           {
            "colorbar": {
             "outlinewidth": 0,
             "ticks": ""
            },
            "colorscale": [
             [
              0,
              "#0d0887"
             ],
             [
              0.1111111111111111,
              "#46039f"
             ],
             [
              0.2222222222222222,
              "#7201a8"
             ],
             [
              0.3333333333333333,
              "#9c179e"
             ],
             [
              0.4444444444444444,
              "#bd3786"
             ],
             [
              0.5555555555555556,
              "#d8576b"
             ],
             [
              0.6666666666666666,
              "#ed7953"
             ],
             [
              0.7777777777777778,
              "#fb9f3a"
             ],
             [
              0.8888888888888888,
              "#fdca26"
             ],
             [
              1,
              "#f0f921"
             ]
            ],
            "type": "heatmapgl"
           }
          ],
          "histogram": [
           {
            "marker": {
             "pattern": {
              "fillmode": "overlay",
              "size": 10,
              "solidity": 0.2
             }
            },
            "type": "histogram"
           }
          ],
          "histogram2d": [
           {
            "colorbar": {
             "outlinewidth": 0,
             "ticks": ""
            },
            "colorscale": [
             [
              0,
              "#0d0887"
             ],
             [
              0.1111111111111111,
              "#46039f"
             ],
             [
              0.2222222222222222,
              "#7201a8"
             ],
             [
              0.3333333333333333,
              "#9c179e"
             ],
             [
              0.4444444444444444,
              "#bd3786"
             ],
             [
              0.5555555555555556,
              "#d8576b"
             ],
             [
              0.6666666666666666,
              "#ed7953"
             ],
             [
              0.7777777777777778,
              "#fb9f3a"
             ],
             [
              0.8888888888888888,
              "#fdca26"
             ],
             [
              1,
              "#f0f921"
             ]
            ],
            "type": "histogram2d"
           }
          ],
          "histogram2dcontour": [
           {
            "colorbar": {
             "outlinewidth": 0,
             "ticks": ""
            },
            "colorscale": [
             [
              0,
              "#0d0887"
             ],
             [
              0.1111111111111111,
              "#46039f"
             ],
             [
              0.2222222222222222,
              "#7201a8"
             ],
             [
              0.3333333333333333,
              "#9c179e"
             ],
             [
              0.4444444444444444,
              "#bd3786"
             ],
             [
              0.5555555555555556,
              "#d8576b"
             ],
             [
              0.6666666666666666,
              "#ed7953"
             ],
             [
              0.7777777777777778,
              "#fb9f3a"
             ],
             [
              0.8888888888888888,
              "#fdca26"
             ],
             [
              1,
              "#f0f921"
             ]
            ],
            "type": "histogram2dcontour"
           }
          ],
          "mesh3d": [
           {
            "colorbar": {
             "outlinewidth": 0,
             "ticks": ""
            },
            "type": "mesh3d"
           }
          ],
          "parcoords": [
           {
            "line": {
             "colorbar": {
              "outlinewidth": 0,
              "ticks": ""
             }
            },
            "type": "parcoords"
           }
          ],
          "pie": [
           {
            "automargin": true,
            "type": "pie"
           }
          ],
          "scatter": [
           {
            "fillpattern": {
             "fillmode": "overlay",
             "size": 10,
             "solidity": 0.2
            },
            "type": "scatter"
           }
          ],
          "scatter3d": [
           {
            "line": {
             "colorbar": {
              "outlinewidth": 0,
              "ticks": ""
             }
            },
            "marker": {
             "colorbar": {
              "outlinewidth": 0,
              "ticks": ""
             }
            },
            "type": "scatter3d"
           }
          ],
          "scattercarpet": [
           {
            "marker": {
             "colorbar": {
              "outlinewidth": 0,
              "ticks": ""
             }
            },
            "type": "scattercarpet"
           }
          ],
          "scattergeo": [
           {
            "marker": {
             "colorbar": {
              "outlinewidth": 0,
              "ticks": ""
             }
            },
            "type": "scattergeo"
           }
          ],
          "scattergl": [
           {
            "marker": {
             "colorbar": {
              "outlinewidth": 0,
              "ticks": ""
             }
            },
            "type": "scattergl"
           }
          ],
          "scattermapbox": [
           {
            "marker": {
             "colorbar": {
              "outlinewidth": 0,
              "ticks": ""
             }
            },
            "type": "scattermapbox"
           }
          ],
          "scatterpolar": [
           {
            "marker": {
             "colorbar": {
              "outlinewidth": 0,
              "ticks": ""
             }
            },
            "type": "scatterpolar"
           }
          ],
          "scatterpolargl": [
           {
            "marker": {
             "colorbar": {
              "outlinewidth": 0,
              "ticks": ""
             }
            },
            "type": "scatterpolargl"
           }
          ],
          "scatterternary": [
           {
            "marker": {
             "colorbar": {
              "outlinewidth": 0,
              "ticks": ""
             }
            },
            "type": "scatterternary"
           }
          ],
          "surface": [
           {
            "colorbar": {
             "outlinewidth": 0,
             "ticks": ""
            },
            "colorscale": [
             [
              0,
              "#0d0887"
             ],
             [
              0.1111111111111111,
              "#46039f"
             ],
             [
              0.2222222222222222,
              "#7201a8"
             ],
             [
              0.3333333333333333,
              "#9c179e"
             ],
             [
              0.4444444444444444,
              "#bd3786"
             ],
             [
              0.5555555555555556,
              "#d8576b"
             ],
             [
              0.6666666666666666,
              "#ed7953"
             ],
             [
              0.7777777777777778,
              "#fb9f3a"
             ],
             [
              0.8888888888888888,
              "#fdca26"
             ],
             [
              1,
              "#f0f921"
             ]
            ],
            "type": "surface"
           }
          ],
          "table": [
           {
            "cells": {
             "fill": {
              "color": "#EBF0F8"
             },
             "line": {
              "color": "white"
             }
            },
            "header": {
             "fill": {
              "color": "#C8D4E3"
             },
             "line": {
              "color": "white"
             }
            },
            "type": "table"
           }
          ]
         },
         "layout": {
          "annotationdefaults": {
           "arrowcolor": "#2a3f5f",
           "arrowhead": 0,
           "arrowwidth": 1
          },
          "autotypenumbers": "strict",
          "coloraxis": {
           "colorbar": {
            "outlinewidth": 0,
            "ticks": ""
           }
          },
          "colorscale": {
           "diverging": [
            [
             0,
             "#8e0152"
            ],
            [
             0.1,
             "#c51b7d"
            ],
            [
             0.2,
             "#de77ae"
            ],
            [
             0.3,
             "#f1b6da"
            ],
            [
             0.4,
             "#fde0ef"
            ],
            [
             0.5,
             "#f7f7f7"
            ],
            [
             0.6,
             "#e6f5d0"
            ],
            [
             0.7,
             "#b8e186"
            ],
            [
             0.8,
             "#7fbc41"
            ],
            [
             0.9,
             "#4d9221"
            ],
            [
             1,
             "#276419"
            ]
           ],
           "sequential": [
            [
             0,
             "#0d0887"
            ],
            [
             0.1111111111111111,
             "#46039f"
            ],
            [
             0.2222222222222222,
             "#7201a8"
            ],
            [
             0.3333333333333333,
             "#9c179e"
            ],
            [
             0.4444444444444444,
             "#bd3786"
            ],
            [
             0.5555555555555556,
             "#d8576b"
            ],
            [
             0.6666666666666666,
             "#ed7953"
            ],
            [
             0.7777777777777778,
             "#fb9f3a"
            ],
            [
             0.8888888888888888,
             "#fdca26"
            ],
            [
             1,
             "#f0f921"
            ]
           ],
           "sequentialminus": [
            [
             0,
             "#0d0887"
            ],
            [
             0.1111111111111111,
             "#46039f"
            ],
            [
             0.2222222222222222,
             "#7201a8"
            ],
            [
             0.3333333333333333,
             "#9c179e"
            ],
            [
             0.4444444444444444,
             "#bd3786"
            ],
            [
             0.5555555555555556,
             "#d8576b"
            ],
            [
             0.6666666666666666,
             "#ed7953"
            ],
            [
             0.7777777777777778,
             "#fb9f3a"
            ],
            [
             0.8888888888888888,
             "#fdca26"
            ],
            [
             1,
             "#f0f921"
            ]
           ]
          },
          "colorway": [
           "#636efa",
           "#EF553B",
           "#00cc96",
           "#ab63fa",
           "#FFA15A",
           "#19d3f3",
           "#FF6692",
           "#B6E880",
           "#FF97FF",
           "#FECB52"
          ],
          "font": {
           "color": "#2a3f5f"
          },
          "geo": {
           "bgcolor": "white",
           "lakecolor": "white",
           "landcolor": "#E5ECF6",
           "showlakes": true,
           "showland": true,
           "subunitcolor": "white"
          },
          "hoverlabel": {
           "align": "left"
          },
          "hovermode": "closest",
          "mapbox": {
           "style": "light"
          },
          "paper_bgcolor": "white",
          "plot_bgcolor": "#E5ECF6",
          "polar": {
           "angularaxis": {
            "gridcolor": "white",
            "linecolor": "white",
            "ticks": ""
           },
           "bgcolor": "#E5ECF6",
           "radialaxis": {
            "gridcolor": "white",
            "linecolor": "white",
            "ticks": ""
           }
          },
          "scene": {
           "xaxis": {
            "backgroundcolor": "#E5ECF6",
            "gridcolor": "white",
            "gridwidth": 2,
            "linecolor": "white",
            "showbackground": true,
            "ticks": "",
            "zerolinecolor": "white"
           },
           "yaxis": {
            "backgroundcolor": "#E5ECF6",
            "gridcolor": "white",
            "gridwidth": 2,
            "linecolor": "white",
            "showbackground": true,
            "ticks": "",
            "zerolinecolor": "white"
           },
           "zaxis": {
            "backgroundcolor": "#E5ECF6",
            "gridcolor": "white",
            "gridwidth": 2,
            "linecolor": "white",
            "showbackground": true,
            "ticks": "",
            "zerolinecolor": "white"
           }
          },
          "shapedefaults": {
           "line": {
            "color": "#2a3f5f"
           }
          },
          "ternary": {
           "aaxis": {
            "gridcolor": "white",
            "linecolor": "white",
            "ticks": ""
           },
           "baxis": {
            "gridcolor": "white",
            "linecolor": "white",
            "ticks": ""
           },
           "bgcolor": "#E5ECF6",
           "caxis": {
            "gridcolor": "white",
            "linecolor": "white",
            "ticks": ""
           }
          },
          "title": {
           "x": 0.05
          },
          "xaxis": {
           "automargin": true,
           "gridcolor": "white",
           "linecolor": "white",
           "ticks": "",
           "title": {
            "standoff": 15
           },
           "zerolinecolor": "white",
           "zerolinewidth": 2
          },
          "yaxis": {
           "automargin": true,
           "gridcolor": "white",
           "linecolor": "white",
           "ticks": "",
           "title": {
            "standoff": 15
           },
           "zerolinecolor": "white",
           "zerolinewidth": 2
          }
         }
        },
        "title": {
         "text": "Box Plot"
        },
        "xaxis": {
         "anchor": "y",
         "categoryarray": [
          "col_int",
          "col_float",
          "col_string",
          "col_category"
         ],
         "categoryorder": "array",
         "domain": [
          0,
          1
         ],
         "title": {
          "text": "Variables"
         }
        },
        "yaxis": {
         "anchor": "x",
         "domain": [
          0,
          1
         ],
         "title": {
          "text": "Values"
         }
        }
       }
      }
     },
     "metadata": {},
     "output_type": "display_data"
    }
   ],
   "source": [
    "Graphs_eda.box_plot(df)"
   ]
  },
  {
   "cell_type": "code",
   "execution_count": 7,
   "metadata": {},
   "outputs": [
    {
     "data": {
      "image/png": "[encoded data removed]",
      "text/plain": [
       "<Figure size 1000x600 with 1 Axes>"
      ]
     },
     "metadata": {},
     "output_type": "display_data"
    }
   ],
   "source": [
    "Graphs_eda.hierarchical_clusters_plot(df)"
   ]
  },
  {
   "cell_type": "code",
   "execution_count": 8,
   "metadata": {},
   "outputs": [
    {
     "data": {
      "image/png": "[encoded data removed]",
      "text/plain": [
       "<Figure size 1200x1000 with 2 Axes>"
      ]
     },
     "metadata": {},
     "output_type": "display_data"
    }
   ],
   "source": [
    "Graphs_eda.correlation_heatmap_plot(df)"
   ]
  },
  {
   "cell_type": "code",
   "execution_count": 9,
   "metadata": {},
   "outputs": [
    {
     "name": "stdout",
     "output_type": "stream",
     "text": [
      "No categorical columns found in the DataFrame.\n"
     ]
    }
   ],
   "source": [
    "Graphs_eda.categorical_plots(df)"
   ]
  },
  {
   "cell_type": "code",
   "execution_count": 10,
   "metadata": {},
   "outputs": [
    {
     "data": {
      "application/vnd.plotly.v1+json": {
       "config": {
        "plotlyServerURL": "https://plot.ly"
       },
       "data": [
        {
         "hovertemplate": "x=%{x}<br>y=%{y}<extra></extra>",
         "legendgroup": "",
         "line": {
          "color": "#636efa",
          "dash": "solid",
          "shape": "linear"
         },
         "marker": {
          "symbol": "circle"
         },
         "mode": "lines+markers",
         "name": "",
         "orientation": "v",
         "showlegend": false,
         "type": "scatter",
         "x": [
          1,
          2,
          3,
          4,
          5
         ],
         "xaxis": "x",
         "y": [
          0.5478690615467329,
          0.9985598881758458,
          0.9999868218351575,
          0.9999995667633862,
          1
         ],
         "yaxis": "y"
        }
       ],
       "layout": {
        "legend": {
         "tracegroupgap": 0
        },
        "margin": {
         "t": 60
        },
        "template": {
         "data": {
          "bar": [
           {
            "error_x": {
             "color": "#2a3f5f"
            },
            "error_y": {
             "color": "#2a3f5f"
            },
            "marker": {
             "line": {
              "color": "#E5ECF6",
              "width": 0.5
             },
             "pattern": {
              "fillmode": "overlay",
              "size": 10,
              "solidity": 0.2
             }
            },
            "type": "bar"
           }
          ],
          "barpolar": [
           {
            "marker": {
             "line": {
              "color": "#E5ECF6",
              "width": 0.5
             },
             "pattern": {
              "fillmode": "overlay",
              "size": 10,
              "solidity": 0.2
             }
            },
            "type": "barpolar"
           }
          ],
          "carpet": [
           {
            "aaxis": {
             "endlinecolor": "#2a3f5f",
             "gridcolor": "white",
             "linecolor": "white",
             "minorgridcolor": "white",
             "startlinecolor": "#2a3f5f"
            },
            "baxis": {
             "endlinecolor": "#2a3f5f",
             "gridcolor": "white",
             "linecolor": "white",
             "minorgridcolor": "white",
             "startlinecolor": "#2a3f5f"
            },
            "type": "carpet"
           }
          ],
          "choropleth": [
           {
            "colorbar": {
             "outlinewidth": 0,
             "ticks": ""
            },
            "type": "choropleth"
           }
          ],
          "contour": [
           {
            "colorbar": {
             "outlinewidth": 0,
             "ticks": ""
            },
            "colorscale": [
             [
              0,
              "#0d0887"
             ],
             [
              0.1111111111111111,
              "#46039f"
             ],
             [
              0.2222222222222222,
              "#7201a8"
             ],
             [
              0.3333333333333333,
              "#9c179e"
             ],
             [
              0.4444444444444444,
              "#bd3786"
             ],
             [
              0.5555555555555556,
              "#d8576b"
             ],
             [
              0.6666666666666666,
              "#ed7953"
             ],
             [
              0.7777777777777778,
              "#fb9f3a"
             ],
             [
              0.8888888888888888,
              "#fdca26"
             ],
             [
              1,
              "#f0f921"
             ]
            ],
            "type": "contour"
           }
          ],
          "contourcarpet": [
           {
            "colorbar": {
             "outlinewidth": 0,
             "ticks": ""
            },
            "type": "contourcarpet"
           }
          ],
          "heatmap": [
           {
            "colorbar": {
             "outlinewidth": 0,
             "ticks": ""
            },
            "colorscale": [
             [
              0,
              "#0d0887"
             ],
             [
              0.1111111111111111,
              "#46039f"
             ],
             [
              0.2222222222222222,
              "#7201a8"
             ],
             [
              0.3333333333333333,
              "#9c179e"
             ],
             [
              0.4444444444444444,
              "#bd3786"
             ],
             [
              0.5555555555555556,
              "#d8576b"
             ],
             [
              0.6666666666666666,
              "#ed7953"
             ],
             [
              0.7777777777777778,
              "#fb9f3a"
             ],
             [
              0.8888888888888888,
              "#fdca26"
             ],
             [
              1,
              "#f0f921"
             ]
            ],
            "type": "heatmap"
           }
          ],
          "heatmapgl": [
           {
            "colorbar": {
             "outlinewidth": 0,
             "ticks": ""
            },
            "colorscale": [
             [
              0,
              "#0d0887"
             ],
             [
              0.1111111111111111,
              "#46039f"
             ],
             [
              0.2222222222222222,
              "#7201a8"
             ],
             [
              0.3333333333333333,
              "#9c179e"
             ],
             [
              0.4444444444444444,
              "#bd3786"
             ],
             [
              0.5555555555555556,
              "#d8576b"
             ],
             [
              0.6666666666666666,
              "#ed7953"
             ],
             [
              0.7777777777777778,
              "#fb9f3a"
             ],
             [
              0.8888888888888888,
              "#fdca26"
             ],
             [
              1,
              "#f0f921"
             ]
            ],
            "type": "heatmapgl"
           }
          ],
          "histogram": [
           {
            "marker": {
             "pattern": {
              "fillmode": "overlay",
              "size": 10,
              "solidity": 0.2
             }
            },
            "type": "histogram"
           }
          ],
          "histogram2d": [
           {
            "colorbar": {
             "outlinewidth": 0,
             "ticks": ""
            },
            "colorscale": [
             [
              0,
              "#0d0887"
             ],
             [
              0.1111111111111111,
              "#46039f"
             ],
             [
              0.2222222222222222,
              "#7201a8"
             ],
             [
              0.3333333333333333,
              "#9c179e"
             ],
             [
              0.4444444444444444,
              "#bd3786"
             ],
             [
              0.5555555555555556,
              "#d8576b"
             ],
             [
              0.6666666666666666,
              "#ed7953"
             ],
             [
              0.7777777777777778,
              "#fb9f3a"
             ],
             [
              0.8888888888888888,
              "#fdca26"
             ],
             [
              1,
              "#f0f921"
             ]
            ],
            "type": "histogram2d"
           }
          ],
          "histogram2dcontour": [
           {
            "colorbar": {
             "outlinewidth": 0,
             "ticks": ""
            },
            "colorscale": [
             [
              0,
              "#0d0887"
             ],
             [
              0.1111111111111111,
              "#46039f"
             ],
             [
              0.2222222222222222,
              "#7201a8"
             ],
             [
              0.3333333333333333,
              "#9c179e"
             ],
             [
              0.4444444444444444,
              "#bd3786"
             ],
             [
              0.5555555555555556,
              "#d8576b"
             ],
             [
              0.6666666666666666,
              "#ed7953"
             ],
             [
              0.7777777777777778,
              "#fb9f3a"
             ],
             [
              0.8888888888888888,
              "#fdca26"
             ],
             [
              1,
              "#f0f921"
             ]
            ],
            "type": "histogram2dcontour"
           }
          ],
          "mesh3d": [
           {
            "colorbar": {
             "outlinewidth": 0,
             "ticks": ""
            },
            "type": "mesh3d"
           }
          ],
          "parcoords": [
           {
            "line": {
             "colorbar": {
              "outlinewidth": 0,
              "ticks": ""
             }
            },
            "type": "parcoords"
           }
          ],
          "pie": [
           {
            "automargin": true,
            "type": "pie"
           }
          ],
          "scatter": [
           {
            "fillpattern": {
             "fillmode": "overlay",
             "size": 10,
             "solidity": 0.2
            },
            "type": "scatter"
           }
          ],
          "scatter3d": [
           {
            "line": {
             "colorbar": {
              "outlinewidth": 0,
              "ticks": ""
             }
            },
            "marker": {
             "colorbar": {
              "outlinewidth": 0,
              "ticks": ""
             }
            },
            "type": "scatter3d"
           }
          ],
          "scattercarpet": [
           {
            "marker": {
             "colorbar": {
              "outlinewidth": 0,
              "ticks": ""
             }
            },
            "type": "scattercarpet"
           }
          ],
          "scattergeo": [
           {
            "marker": {
             "colorbar": {
              "outlinewidth": 0,
              "ticks": ""
             }
            },
            "type": "scattergeo"
           }
          ],
          "scattergl": [
           {
            "marker": {
             "colorbar": {
              "outlinewidth": 0,
              "ticks": ""
             }
            },
            "type": "scattergl"
           }
          ],
          "scattermapbox": [
           {
            "marker": {
             "colorbar": {
              "outlinewidth": 0,
              "ticks": ""
             }
            },
            "type": "scattermapbox"
           }
          ],
          "scatterpolar": [
           {
            "marker": {
             "colorbar": {
              "outlinewidth": 0,
              "ticks": ""
             }
            },
            "type": "scatterpolar"
           }
          ],
          "scatterpolargl": [
           {
            "marker": {
             "colorbar": {
              "outlinewidth": 0,
              "ticks": ""
             }
            },
            "type": "scatterpolargl"
           }
          ],
          "scatterternary": [
           {
            "marker": {
             "colorbar": {
              "outlinewidth": 0,
              "ticks": ""
             }
            },
            "type": "scatterternary"
           }
          ],
          "surface": [
           {
            "colorbar": {
             "outlinewidth": 0,
             "ticks": ""
            },
            "colorscale": [
             [
              0,
              "#0d0887"
             ],
             [
              0.1111111111111111,
              "#46039f"
             ],
             [
              0.2222222222222222,
              "#7201a8"
             ],
             [
              0.3333333333333333,
              "#9c179e"
             ],
             [
              0.4444444444444444,
              "#bd3786"
             ],
             [
              0.5555555555555556,
              "#d8576b"
             ],
             [
              0.6666666666666666,
              "#ed7953"
             ],
             [
              0.7777777777777778,
              "#fb9f3a"
             ],
             [
              0.8888888888888888,
              "#fdca26"
             ],
             [
              1,
              "#f0f921"
             ]
            ],
            "type": "surface"
           }
          ],
          "table": [
           {
            "cells": {
             "fill": {
              "color": "#EBF0F8"
             },
             "line": {
              "color": "white"
             }
            },
            "header": {
             "fill": {
              "color": "#C8D4E3"
             },
             "line": {
              "color": "white"
             }
            },
            "type": "table"
           }
          ]
         },
         "layout": {
          "annotationdefaults": {
           "arrowcolor": "#2a3f5f",
           "arrowhead": 0,
           "arrowwidth": 1
          },
          "autotypenumbers": "strict",
          "coloraxis": {
           "colorbar": {
            "outlinewidth": 0,
            "ticks": ""
           }
          },
          "colorscale": {
           "diverging": [
            [
             0,
             "#8e0152"
            ],
            [
             0.1,
             "#c51b7d"
            ],
            [
             0.2,
             "#de77ae"
            ],
            [
             0.3,
             "#f1b6da"
            ],
            [
             0.4,
             "#fde0ef"
            ],
            [
             0.5,
             "#f7f7f7"
            ],
            [
             0.6,
             "#e6f5d0"
            ],
            [
             0.7,
             "#b8e186"
            ],
            [
             0.8,
             "#7fbc41"
            ],
            [
             0.9,
             "#4d9221"
            ],
            [
             1,
             "#276419"
            ]
           ],
           "sequential": [
            [
             0,
             "#0d0887"
            ],
            [
             0.1111111111111111,
             "#46039f"
            ],
            [
             0.2222222222222222,
             "#7201a8"
            ],
            [
             0.3333333333333333,
             "#9c179e"
            ],
            [
             0.4444444444444444,
             "#bd3786"
            ],
            [
             0.5555555555555556,
             "#d8576b"
            ],
            [
             0.6666666666666666,
             "#ed7953"
            ],
            [
             0.7777777777777778,
             "#fb9f3a"
            ],
            [
             0.8888888888888888,
             "#fdca26"
            ],
            [
             1,
             "#f0f921"
            ]
           ],
           "sequentialminus": [
            [
             0,
             "#0d0887"
            ],
            [
             0.1111111111111111,
             "#46039f"
            ],
            [
             0.2222222222222222,
             "#7201a8"
            ],
            [
             0.3333333333333333,
             "#9c179e"
            ],
            [
             0.4444444444444444,
             "#bd3786"
            ],
            [
             0.5555555555555556,
             "#d8576b"
            ],
            [
             0.6666666666666666,
             "#ed7953"
            ],
            [
             0.7777777777777778,
             "#fb9f3a"
            ],
            [
             0.8888888888888888,
             "#fdca26"
            ],
            [
             1,
             "#f0f921"
            ]
           ]
          },
          "colorway": [
           "#636efa",
           "#EF553B",
           "#00cc96",
           "#ab63fa",
           "#FFA15A",
           "#19d3f3",
           "#FF6692",
           "#B6E880",
           "#FF97FF",
           "#FECB52"
          ],
          "font": {
           "color": "#2a3f5f"
          },
          "geo": {
           "bgcolor": "white",
           "lakecolor": "white",
           "landcolor": "#E5ECF6",
           "showlakes": true,
           "showland": true,
           "subunitcolor": "white"
          },
          "hoverlabel": {
           "align": "left"
          },
          "hovermode": "closest",
          "mapbox": {
           "style": "light"
          },
          "paper_bgcolor": "white",
          "plot_bgcolor": "#E5ECF6",
          "polar": {
           "angularaxis": {
            "gridcolor": "white",
            "linecolor": "white",
            "ticks": ""
           },
           "bgcolor": "#E5ECF6",
           "radialaxis": {
            "gridcolor": "white",
            "linecolor": "white",
            "ticks": ""
           }
          },
          "scene": {
           "xaxis": {
            "backgroundcolor": "#E5ECF6",
            "gridcolor": "white",
            "gridwidth": 2,
            "linecolor": "white",
            "showbackground": true,
            "ticks": "",
            "zerolinecolor": "white"
           },
           "yaxis": {
            "backgroundcolor": "#E5ECF6",
            "gridcolor": "white",
            "gridwidth": 2,
            "linecolor": "white",
            "showbackground": true,
            "ticks": "",
            "zerolinecolor": "white"
           },
           "zaxis": {
            "backgroundcolor": "#E5ECF6",
            "gridcolor": "white",
            "gridwidth": 2,
            "linecolor": "white",
            "showbackground": true,
            "ticks": "",
            "zerolinecolor": "white"
           }
          },
          "shapedefaults": {
           "line": {
            "color": "#2a3f5f"
           }
          },
          "ternary": {
           "aaxis": {
            "gridcolor": "white",
            "linecolor": "white",
            "ticks": ""
           },
           "baxis": {
            "gridcolor": "white",
            "linecolor": "white",
            "ticks": ""
           },
           "bgcolor": "#E5ECF6",
           "caxis": {
            "gridcolor": "white",
            "linecolor": "white",
            "ticks": ""
           }
          },
          "title": {
           "x": 0.05
          },
          "xaxis": {
           "automargin": true,
           "gridcolor": "white",
           "linecolor": "white",
           "ticks": "",
           "title": {
            "standoff": 15
           },
           "zerolinecolor": "white",
           "zerolinewidth": 2
          },
          "yaxis": {
           "automargin": true,
           "gridcolor": "white",
           "linecolor": "white",
           "ticks": "",
           "title": {
            "standoff": 15
           },
           "zerolinecolor": "white",
           "zerolinewidth": 2
          }
         }
        },
        "title": {
         "text": "Explained Variance vs. Number of Components"
        },
        "xaxis": {
         "anchor": "y",
         "domain": [
          0,
          1
         ],
         "title": {
          "text": "Number of Components"
         }
        },
        "yaxis": {
         "anchor": "x",
         "domain": [
          0,
          1
         ],
         "title": {
          "text": "Cumulative Explained Variance"
         }
        }
       }
      }
     },
     "metadata": {},
     "output_type": "display_data"
    },
    {
     "name": "stdout",
     "output_type": "stream",
     "text": [
      "Number of components to achieve the 0.95 target variance = 2\n"
     ]
    }
   ],
   "source": [
    "Graphs_eda.pca_elbow_method_plot(df)"
   ]
  },
  {
   "cell_type": "code",
   "execution_count": 20,
   "metadata": {},
   "outputs": [
    {
     "name": "stdout",
     "output_type": "stream",
     "text": [
      "                            OLS Regression Results                            \n",
      "==============================================================================\n",
      "Dep. Variable:                col_int   R-squared:                       0.022\n",
      "Model:                            OLS   Adj. R-squared:                 -0.019\n",
      "Method:                 Least Squares   F-statistic:                    0.5454\n",
      "Date:                Thu, 29 Aug 2024   Prob (F-statistic):              0.703\n",
      "Time:                        17:08:48   Log-Likelihood:                -768.86\n",
      "No. Observations:                 100   AIC:                             1548.\n",
      "Df Residuals:                      95   BIC:                             1561.\n",
      "Df Model:                           4                                         \n",
      "Covariance Type:            nonrobust                                         \n",
      "================================================================================\n",
      "                   coef    std err          t      P>|t|      [0.025      0.975]\n",
      "--------------------------------------------------------------------------------\n",
      "const            1.3612    135.790      0.010      0.992    -268.215     270.938\n",
      "col_float       -0.0879      0.106     -0.829      0.409      -0.298       0.123\n",
      "col_string       0.2911      1.948      0.149      0.882      -3.576       4.158\n",
      "col_category   -13.6640     20.516     -0.666      0.507     -54.394      27.066\n",
      "col_binary     114.6251    110.529      1.037      0.302    -104.804     334.054\n",
      "==============================================================================\n",
      "Omnibus:                       11.852   Durbin-Watson:                   1.856\n",
      "Prob(Omnibus):                  0.003   Jarque-Bera (JB):                4.531\n",
      "Skew:                           0.222   Prob(JB):                        0.104\n",
      "Kurtosis:                       2.057   Cond. No.                     1.36e+03\n",
      "==============================================================================\n",
      "\n",
      "Notes:\n",
      "[1] Standard Errors assume that the covariance matrix of the errors is correctly specified.\n",
      "[2] The condition number is large, 1.36e+03. This might indicate that there are\n",
      "strong multicollinearity or other numerical problems.\n"
     ]
    },
    {
     "data": {
      "text/plain": [
       "<statsmodels.regression.linear_model.RegressionResultsWrapper at 0x1967078a490>"
      ]
     },
     "execution_count": 20,
     "metadata": {},
     "output_type": "execute_result"
    }
   ],
   "source": [
    "Models.perform_model(df, 'col_int', 'linear')"
   ]
  }
 ],
 "metadata": {
  "kernelspec": {
   "display_name": "DATASCIENCE",
   "language": "python",
   "name": "python3"
  },
  "language_info": {
   "codemirror_mode": {
    "name": "ipython",
    "version": 3
   },
   "file_extension": ".py",
   "mimetype": "text/x-python",
   "name": "python",
   "nbconvert_exporter": "python",
   "pygments_lexer": "ipython3",
   "version": "3.11.9"
  }
 },
 "nbformat": 4,
 "nbformat_minor": 2
}
